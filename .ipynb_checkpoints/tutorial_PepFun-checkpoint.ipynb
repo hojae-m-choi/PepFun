{
 "cells": [
  {
   "cell_type": "markdown",
   "metadata": {},
   "source": [
    "# Tutorial PepFun"
   ]
  },
  {
   "cell_type": "markdown",
   "metadata": {},
   "source": [
    "The following is a set of exercises to run some functionalities available in PepFun, which cover a set of bioinformatics and cheminformatics protocols for peptide analysis. In addition to this tutorial, the project contains a **test.py** script where many of the package functionalities are tested with basic examples. Here, we will cover some sequence- and structure-based analysis using one or many peptides at the same time. At the end, we will generate some libraries based on certain patterns and restraints.\n",
    "\n",
    "* From publication \"PepFun: open source protocols for peptide-related computational analysis\"\n",
    "* Molecules \n",
    "* Authors: Rodrigo Ochoa, Pilar Cossio\n",
    "* Year: 2021"
   ]
  },
  {
   "cell_type": "markdown",
   "metadata": {},
   "source": [
    "## Requirements"
   ]
  },
  {
   "cell_type": "markdown",
   "metadata": {},
   "source": [
    "To run PepFun functionalities using Python3, it is recommended to configure a conda environment to have installed all the required dependencies **(which should be done only once)**. One way to create an initial virtual environment from the rdkit channel is:"
   ]
  },
  {
   "cell_type": "markdown",
   "metadata": {},
   "source": [
    "`conda create -c rdkit -n pepfun-env rdkit biopython matplotlib scipy pip pycairo nb_conda_kernels`"
   ]
  },
  {
   "cell_type": "markdown",
   "metadata": {},
   "source": [
    "For BioPython, it is recommended using version 1.76. After the installation, you can activate the environment using the command:"
   ]
  },
  {
   "cell_type": "markdown",
   "metadata": {},
   "source": [
    "`source activate pepfun-env`"
   ]
  },
  {
   "cell_type": "markdown",
   "metadata": {},
   "source": [
    "After entering the virtual environment, this notebook can be called with jupyter and selecting the kernel provided by this conda instance. Then, we can install the igraph module for python3.6 using pip:"
   ]
  },
  {
   "cell_type": "markdown",
   "metadata": {},
   "source": [
    "`python3.6 -m pip install python-igraph`"
   ]
  },
  {
   "cell_type": "markdown",
   "metadata": {},
   "source": [
    "**NOTES:**\n",
    "1. If the script is called as a module from a different folder, the path can be added using the following commands (remove comments):"
   ]
  },
  {
   "cell_type": "code",
   "execution_count": 1,
   "metadata": {},
   "outputs": [],
   "source": [
    "#import sys\n",
    "#sys.path.append('<PATH-TO-PEPFUN>')"
   ]
  },
  {
   "cell_type": "markdown",
   "metadata": {},
   "source": [
    "2. The package was build under a Unix environment, but it can be used under any other OS based on the provided paths"
   ]
  },
  {
   "cell_type": "markdown",
   "metadata": {},
   "source": [
    "***"
   ]
  },
  {
   "cell_type": "markdown",
   "metadata": {},
   "source": [
    "## 1. Sequence analysis"
   ]
  },
  {
   "cell_type": "markdown",
   "metadata": {},
   "source": [
    "For this part, we will calculate a set of properties for a set of peptides reported as binders of the MHC class II allele DRB1\\*0101, used as a benchmark system in the PepFun project. For that purpose, we will upload a list of sequences available in the tutorial:"
   ]
  },
  {
   "cell_type": "markdown",
   "metadata": {},
   "source": [
    "*First we will import the modules required for the analysis*"
   ]
  },
  {
   "cell_type": "code",
   "execution_count": 2,
   "metadata": {},
   "outputs": [],
   "source": [
    "# Modules of Pepfun\n",
    "from pepfun import *\n",
    "\n",
    "# Additional modules to run analysis\n",
    "import numpy as np\n",
    "import matplotlib.pyplot as plt\n",
    "from statistics import mean\n",
    "from statistics import stdev\n",
    "from scipy import stats"
   ]
  },
  {
   "cell_type": "markdown",
   "metadata": {},
   "source": [
    "*The sequences can be loaded in a list object in python for further analysis. The file in the example contains the peptide sequences of the MHC class II binders with IC50 values below 50 uM*"
   ]
  },
  {
   "cell_type": "code",
   "execution_count": 3,
   "metadata": {},
   "outputs": [],
   "source": [
    "sequences=[x.strip() for x in open(\"auxiliar/sequences_binders_50uM.txt\")]"
   ]
  },
  {
   "cell_type": "code",
   "execution_count": 4,
   "metadata": {},
   "outputs": [
    {
     "name": "stdout",
     "output_type": "stream",
     "text": [
      "There is a total of 655 sequences\n",
      "The first peptide sequence is: FWYVNHTGFNVHSLP\n"
     ]
    }
   ],
   "source": [
    "print(\"There is a total of {} sequences\".format(len(sequences)))\n",
    "print(\"The first peptide sequence is: {}\".format(sequences[0]))"
   ]
  },
  {
   "cell_type": "markdown",
   "metadata": {},
   "source": [
    "***"
   ]
  },
  {
   "cell_type": "markdown",
   "metadata": {},
   "source": [
    "**1.1 Pair-wise alignment examples of peptides**"
   ]
  },
  {
   "cell_type": "markdown",
   "metadata": {},
   "source": [
    "First, we will compare two sequences from the dataset using the functions provided in PepFun."
   ]
  },
  {
   "cell_type": "code",
   "execution_count": 5,
   "metadata": {},
   "outputs": [
    {
     "name": "stdout",
     "output_type": "stream",
     "text": [
      "Query sequence is: FWYVNHTGFNVHSLP\n",
      "Subject sequence is: KALYDLQRSAMVYSS\n"
     ]
    }
   ],
   "source": [
    "print(\"Query sequence is: {}\".format(sequences[0]))\n",
    "print(\"Subject sequence is: {}\".format(sequences[1]))"
   ]
  },
  {
   "cell_type": "markdown",
   "metadata": {},
   "source": [
    "Then we create the object"
   ]
  },
  {
   "cell_type": "code",
   "execution_count": 6,
   "metadata": {},
   "outputs": [],
   "source": [
    "# Create object\n",
    "pep=peptide_sequence(sequences[0])"
   ]
  },
  {
   "cell_type": "markdown",
   "metadata": {},
   "source": [
    "With the new object, we can call the functions and calculate the corresponding scores:"
   ]
  },
  {
   "cell_type": "code",
   "execution_count": 7,
   "metadata": {},
   "outputs": [
    {
     "name": "stdout",
     "output_type": "stream",
     "text": [
      "Alignment score by position is: -25\n",
      "The number of mismatches are: 15\n",
      "The similarity using a scoring matrix between peptides is: -0.29\n",
      "The SMILES similarity is: 0.34\n"
     ]
    }
   ],
   "source": [
    "pep.align_position_matrix(sequences[1])\n",
    "print(\"Alignment score by position is: {}\".format(pep.score_matrix))\n",
    "\n",
    "# Run basic alignment position by position\n",
    "pep.align_position_local(sequences[1])\n",
    "print(\"The number of mismatches are: {}\".format(pep.dismatch))\n",
    "\n",
    "# Run local alignment with the matrix\n",
    "similarity=pep.similarity_pair(sequences[0],sequences[1])\n",
    "print(\"The similarity using a scoring matrix between peptides is: {0:.2f}\".format(similarity))\n",
    "    \n",
    "# Compare the SMILES of the two sequences\n",
    "pep.similar_smiles(sequences[1])\n",
    "print(\"The SMILES similarity is: {0:.2f}\".format(pep.smiles_similarity))"
   ]
  },
  {
   "cell_type": "markdown",
   "metadata": {},
   "source": [
    "In the previous example, we have compared scores for the alignment of the two sequences using several methodologies. The alignment score by position is the sum of the match or mismatch scores based on a selected matrix from the AAindex database. The number of mismatches are the amino acids that are not identical at the same position in the sequence. The similarity metric is a normalized score of the alignment, where the maximum value is 1. The SMILES similarity is a value (Tanimoto metric) between 0 an 1, the closes to 1, the more similar the sequence. All these measures and the references are included in the main manuscript (Ochoa & Cossio, Molecules, 2021)."
   ]
  },
  {
   "cell_type": "markdown",
   "metadata": {},
   "source": [
    "***"
   ]
  },
  {
   "cell_type": "markdown",
   "metadata": {},
   "source": [
    "**1.2 Calculation of properties with the whole library**"
   ]
  },
  {
   "cell_type": "markdown",
   "metadata": {},
   "source": [
    "In this part, we will calculate four basic sequence properties: net charge, molecular weight, Crippen logP and Eisenberg's hydrophobicity (see paper for References). For that purpose, we will iterate over the sequences as follows:"
   ]
  },
  {
   "cell_type": "code",
   "execution_count": 8,
   "metadata": {},
   "outputs": [
    {
     "name": "stdout",
     "output_type": "stream",
     "text": [
      "The number of peptides with properties calculated is: 655\n"
     ]
    }
   ],
   "source": [
    "# List with the properties\n",
    "charges=[]\n",
    "weights=[]\n",
    "logps=[]\n",
    "hydro=[]\n",
    "\n",
    "# Loop over the sequences\n",
    "for seq in sequences:\n",
    "    # Create the object and run the calculations\n",
    "    pep=peptide_sequence(seq)\n",
    "    pep.compute_peptide_charges()\n",
    "    pep.calculate_properties_from_mol()\n",
    "    pep.calculate_properties_from_sequence()\n",
    "    \n",
    "    # Append the properties to the lists\n",
    "    charges.append(pep.netCharge)\n",
    "    weights.append(pep.mol_weight)\n",
    "    logps.append(pep.mol_logp)\n",
    "    hydro.append(pep.avg_hydro)\n",
    "\n",
    "print(\"The number of peptides with properties calculated is: {}\".format(len(charges)))"
   ]
  },
  {
   "cell_type": "markdown",
   "metadata": {},
   "source": [
    "Then, we can plot the properties as histograms using matplot functionalities. We will convert the lists to numpy arrays first:"
   ]
  },
  {
   "cell_type": "code",
   "execution_count": 9,
   "metadata": {},
   "outputs": [],
   "source": [
    "chargesData=np.array(charges).astype(np.float)\n",
    "weightsData=np.array(weights).astype(np.float)\n",
    "logpsData=np.array(logps).astype(np.float)\n",
    "hydroData=np.array(hydro).astype(np.float)"
   ]
  },
  {
   "cell_type": "markdown",
   "metadata": {},
   "source": [
    "This is the histogram for the charges:"
   ]
  },
  {
   "cell_type": "code",
   "execution_count": 10,
   "metadata": {},
   "outputs": [
    {
     "data": {
      "image/png": "[encoded data removed]",
      "text/plain": [
       "<Figure size 432x288 with 1 Axes>"
      ]
     },
     "metadata": {
      "needs_background": "light"
     },
     "output_type": "display_data"
    }
   ],
   "source": [
    "bins = np.linspace(-6,8,20)\n",
    "plt.hist(chargesData, bins, alpha=0.5, color='b', linewidth=0)\n",
    "plt.axvline(x=mean(charges), color='b', linestyle='--')\n",
    "plt.title('Net charge (at pH=7)')\n",
    "plt.show()"
   ]
  },
  {
   "cell_type": "markdown",
   "metadata": {},
   "source": [
    "Hydrophobicity:"
   ]
  },
  {
   "cell_type": "code",
   "execution_count": 11,
   "metadata": {},
   "outputs": [
    {
     "data": {
      "image/png": "[encoded data removed]",
      "text/plain": [
       "<Figure size 432x288 with 1 Axes>"
      ]
     },
     "metadata": {
      "needs_background": "light"
     },
     "output_type": "display_data"
    }
   ],
   "source": [
    "bins = np.linspace(-10,11,20)\n",
    "plt.hist(hydroData, bins, alpha=0.5, color='r', linewidth=0)\n",
    "plt.axvline(x=mean(hydro), color='r', linestyle='--')\n",
    "plt.title('Hydrophobicity Eisenberg scale')\n",
    "plt.show()"
   ]
  },
  {
   "cell_type": "markdown",
   "metadata": {},
   "source": [
    "Molecular weight:"
   ]
  },
  {
   "cell_type": "code",
   "execution_count": 12,
   "metadata": {},
   "outputs": [
    {
     "data": {
      "image/png": "[encoded data removed]",
      "text/plain": [
       "<Figure size 432x288 with 1 Axes>"
      ]
     },
     "metadata": {
      "needs_background": "light"
     },
     "output_type": "display_data"
    }
   ],
   "source": [
    "bins = np.linspace(1200,2100,20)\n",
    "plt.hist(weightsData, bins, alpha=0.5, color='g', linewidth=0)\n",
    "plt.axvline(x=mean(weights), color='g', linestyle='--')\n",
    "plt.title('Molecular weight (g/mol)')\n",
    "plt.show()"
   ]
  },
  {
   "cell_type": "markdown",
   "metadata": {},
   "source": [
    "and Crippen logP:"
   ]
  },
  {
   "cell_type": "code",
   "execution_count": 13,
   "metadata": {},
   "outputs": [
    {
     "data": {
      "image/png": "[encoded data removed]",
      "text/plain": [
       "<Figure size 432x288 with 1 Axes>"
      ]
     },
     "metadata": {
      "needs_background": "light"
     },
     "output_type": "display_data"
    }
   ],
   "source": [
    "bins = np.linspace(-14,4,20)\n",
    "plt.hist(logpsData, bins, alpha=0.5, color='purple', linewidth=0)\n",
    "plt.axvline(x=mean(logps), color='purple', linestyle='--')\n",
    "plt.title('LogP (Crippen)')\n",
    "plt.show()"
   ]
  },
  {
   "cell_type": "markdown",
   "metadata": {},
   "source": [
    "***"
   ]
  },
  {
   "cell_type": "markdown",
   "metadata": {},
   "source": [
    "## 2. Structure analysis"
   ]
  },
  {
   "cell_type": "markdown",
   "metadata": {},
   "source": [
    "In this section, we will calculate a number of interactions for a protease-peptide complex presented in the Results section of the paper. First, we will upload the structure:"
   ]
  },
  {
   "cell_type": "code",
   "execution_count": 14,
   "metadata": {},
   "outputs": [
    {
     "name": "stdout",
     "output_type": "stream",
     "text": [
      "The peptide sequence based on the PDB file is: IEPDTDAP\n",
      "\n"
     ]
    }
   ],
   "source": [
    "pdb_file=\"auxiliar/protease_structure.pdb\"\n",
    "dssp_route=\"auxiliar/mkdssp\"\n",
    "chain=\"B\"\n",
    "pepStr=peptide_structure(pdb_file,chain)\n",
    "print(\"The peptide sequence based on the PDB file is: {}\\n\".format(pepStr.sequence))"
   ]
  },
  {
   "cell_type": "markdown",
   "metadata": {},
   "source": [
    "Based on the structural conformation of the peptide, we can calculate the secondary structure"
   ]
  },
  {
   "cell_type": "code",
   "execution_count": 15,
   "metadata": {},
   "outputs": [
    {
     "name": "stdout",
     "output_type": "stream",
     "text": [
      "The predicted secondary structure is: -EESS---\n"
     ]
    }
   ],
   "source": [
    "pepStr.get_secondary_structure(dssp_route)\n",
    "print(\"The predicted secondary structure is: {}\".format(pepStr.total_dssp))\n",
    "\n",
    "#The secondary structure convention in DSSP is:\n",
    "#    B - beta bridge\n",
    "#    H - alpha helix\n",
    "#    E - beta strand\n",
    "#    S - bend\n",
    "#    T - turn\n",
    "#    G - 3/10 helix"
   ]
  },
  {
   "cell_type": "markdown",
   "metadata": {},
   "source": [
    "Then, we can calculate the number of contacts after establishing a contact threshold (in angstroms):"
   ]
  },
  {
   "cell_type": "code",
   "execution_count": 16,
   "metadata": {},
   "outputs": [
    {
     "name": "stdout",
     "output_type": "stream",
     "text": [
      "The total number of contacts is: 118\n"
     ]
    }
   ],
   "source": [
    "contact_threshold=4.0\n",
    "pepStr.get_heavy_atom_contacts(contact_threshold)\n",
    "print(\"The total number of contacts is: {}\".format(pepStr.total_contacts))"
   ]
  },
  {
   "cell_type": "markdown",
   "metadata": {},
   "source": [
    "Then, we can calculate the hydrogen bonds based on DSSP:"
   ]
  },
  {
   "cell_type": "code",
   "execution_count": 17,
   "metadata": {},
   "outputs": [
    {
     "name": "stdout",
     "output_type": "stream",
     "text": [
      "These are the hydrogen bonds detected:\n",
      "I1 interacts with residue G200 from chain A\n",
      "I1 interacts with residue S198 from chain A\n",
      "E2 interacts with residue Y199 from chain A\n",
      "E2 interacts with residue Y199 from chain A\n",
      "E2 interacts with residue N84 from chain A\n",
      "P3 interacts with residue S198 from chain A\n",
      "D4 interacts with residue V197 from chain A\n",
      "D4 interacts with residue D182 from chain A\n",
      "D4 interacts with residue F179 from chain A\n",
      "D4 interacts with residue K180 from chain A\n",
      "T5 interacts with residue G181 from chain A\n",
      "T5 interacts with residue F179 from chain A\n",
      "T5 interacts with residue R28 from chain A\n",
      "D6 interacts with residue K27 from chain A\n",
      "D6 interacts with residue K180 from chain A\n",
      "A7 interacts with residue F179 from chain A\n",
      "The total number of hydrogen bonds are: 16\n"
     ]
    },
    {
     "data": {
      "image/png": "[encoded data removed]",
      "text/plain": [
       "<IPython.core.display.Image object>"
      ]
     },
     "execution_count": 17,
     "metadata": {},
     "output_type": "execute_result"
    }
   ],
   "source": [
    "pepStr.get_hydrogen_bonds(dssp_route)\n",
    "print(\"The total number of hydrogen bonds are: {}\".format(pepStr.number_hydrogen_bonds))\n",
    "    \n",
    "#The hydrogen bonds can be plotted in a linear or cyclic conformation using the function\n",
    "pepStr.plot_hydrogen_bonds(\"linear\")\n",
    "from IPython.display import Image\n",
    "Image(filename='plot_hbs_IEPDTDAP.png')"
   ]
  },
  {
   "cell_type": "markdown",
   "metadata": {},
   "source": [
    "Finally, we can check amino acid by amino acid in the peptide what is the accesible surface area (ASA) value, as well as the specific contacts created by each residue:"
   ]
  },
  {
   "cell_type": "code",
   "execution_count": 18,
   "metadata": {},
   "outputs": [
    {
     "name": "stdout",
     "output_type": "stream",
     "text": [
      "The following are the details per amino acid in the peptide:\n",
      "AA\tPos\tASA\tContacts\n",
      "I\t1\t0.30\t16\n",
      "E\t2\t0.42\t13\n",
      "P\t3\t0.14\t16\n",
      "D\t4\t0.02\t42\n",
      "T\t5\t0.02\t15\n",
      "D\t6\t0.18\t16\n",
      "A\t7\t0.45\t0\n",
      "P\t8\t1.00\t0\n"
     ]
    }
   ],
   "source": [
    "print(\"The following are the details per amino acid in the peptide:\")\n",
    "print(\"AA\\tPos\\tASA\\tContacts\")\n",
    "for position in pepStr.positions:\n",
    "    print(\"{:s}\\t{:d}\\t{:.2f}\\t{:d}\".format(pepStr.positions[position]['aa'],position,\n",
    "          pepStr.positions[position]['asa'],pepStr.positions[position]['contacts']))"
   ]
  },
  {
   "cell_type": "markdown",
   "metadata": {},
   "source": [
    "***"
   ]
  },
  {
   "cell_type": "markdown",
   "metadata": {},
   "source": [
    "## 3. Generation of libraries"
   ]
  },
  {
   "cell_type": "markdown",
   "metadata": {},
   "source": [
    "In this part, we will generate two independent libraries. For the first case, we will create a library of 10-mer peptides with a uniform distribution of the natural amino acids in all the positions of the peptide:"
   ]
  },
  {
   "cell_type": "code",
   "execution_count": 19,
   "metadata": {},
   "outputs": [],
   "source": [
    "list_peptides=combinatorial_library(10,\"natural\")"
   ]
  },
  {
   "cell_type": "markdown",
   "metadata": {},
   "source": [
    "We can check what is the distribution of **Alanine** at each position of the peptide. If the distribution is uniform, the percentage should be around 5%"
   ]
  },
  {
   "cell_type": "code",
   "execution_count": 20,
   "metadata": {},
   "outputs": [
    {
     "name": "stdout",
     "output_type": "stream",
     "text": [
      "ALA% for position 1 is: 4.67\n",
      "ALA% for position 2 is: 4.67\n",
      "ALA% for position 3 is: 4.17\n",
      "ALA% for position 4 is: 4.17\n",
      "ALA% for position 5 is: 5.17\n",
      "ALA% for position 6 is: 4.83\n",
      "ALA% for position 7 is: 4.33\n",
      "ALA% for position 8 is: 5.50\n",
      "ALA% for position 9 is: 6.00\n",
      "ALA% for position 10 is: 5.00\n"
     ]
    }
   ],
   "source": [
    "counter=frequencies_library(list_peptides)\n",
    "\n",
    "for pos in counter:\n",
    "    count_alanine=counter[pos]['A']\n",
    "    total=0\n",
    "    for aa in counter[pos]:\n",
    "        total+=counter[pos][aa]\n",
    "    perc_alanine=float(count_alanine)/float(total)*100\n",
    "    print(\"ALA% for position {:d} is: {:.2f}\".format(pos,perc_alanine))"
   ]
  },
  {
   "cell_type": "markdown",
   "metadata": {},
   "source": [
    "In the second example, we will generate a library of 5-mer peptides with pattern \"XERTX\". The pattern means that the ERT motif will be conserved, and the X positions will be changed by one of the 20 amino acids (without repetition). Based on the combinations, a total of 400 peptides should be generated."
   ]
  },
  {
   "cell_type": "code",
   "execution_count": 21,
   "metadata": {},
   "outputs": [
    {
     "name": "stdout",
     "output_type": "stream",
     "text": [
      "The total amount of peptides in the library is 400\n"
     ]
    }
   ],
   "source": [
    "list_peptides=generate_peptide_pattern(\"XERTX\")\n",
    "print(\"The total amount of peptides in the library is {}\".format(len(list_peptides)))"
   ]
  },
  {
   "cell_type": "markdown",
   "metadata": {},
   "source": [
    "***"
   ]
  },
  {
   "cell_type": "markdown",
   "metadata": {},
   "source": [
    "## Support"
   ]
  },
  {
   "cell_type": "markdown",
   "metadata": {},
   "source": [
    "For any questions, and developer feedback, please contact us to the email: rodrigo.ochoa@udea.edu.co"
   ]
  }
 ],
 "metadata": {
  "kernelspec": {
   "display_name": "Python 3",
   "language": "python",
   "name": "python3"
  },
  "language_info": {
   "codemirror_mode": {
    "name": "ipython",
    "version": 3
   },
   "file_extension": ".py",
   "mimetype": "text/x-python",
   "name": "python",
   "nbconvert_exporter": "python",
   "pygments_lexer": "ipython3",
   "version": "3.7.7"
  }
 },
 "nbformat": 4,
 "nbformat_minor": 4
}
